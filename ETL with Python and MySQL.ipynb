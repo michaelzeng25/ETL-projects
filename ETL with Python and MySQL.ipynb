{
 "cells": [
  {
   "cell_type": "code",
   "execution_count": 476,
   "metadata": {},
   "outputs": [],
   "source": [
    "import pandas as pd \n",
    "import glob # a module that finds all the pathnames matching a specified pattern\n",
    "import numpy as np"
   ]
  },
  {
   "cell_type": "code",
   "execution_count": 16,
   "metadata": {},
   "outputs": [],
   "source": [
    "file_path =r'/Users/michaelzeng/Library/Mobile Documents/com~apple~CloudDocs/python projects'"
   ]
  },
  {
   "cell_type": "code",
   "execution_count": 18,
   "metadata": {},
   "outputs": [
    {
     "name": "stdout",
     "output_type": "stream",
     "text": [
      "['/Users/michaelzeng/Library/Mobile Documents/com~apple~CloudDocs/python projects/HS.csv', '/Users/michaelzeng/Library/Mobile Documents/com~apple~CloudDocs/python projects/HS2.csv']\n",
      "['/Users/michaelzeng/Library/Mobile Documents/com~apple~CloudDocs/python projects/HS2.xlsx']\n"
     ]
    }
   ],
   "source": [
    "all_csv_Files = glob.glob(file_path + \"/*.csv\")\n",
    "all_excel_Files = glob.glob(file_path + \"/*.xlsx\")\n",
    "print(all_csv_Files)\n",
    "print(all_excel_Files)"
   ]
  },
  {
   "cell_type": "code",
   "execution_count": 23,
   "metadata": {},
   "outputs": [
    {
     "name": "stdout",
     "output_type": "stream",
     "text": [
      "  Geographic Area           City percent_completed_hs\n",
      "0              AL  Anniston city                 79.8\n",
      "1              AL      Arab city                 87.6\n",
      "2              AL   Ardmore town                 77.7\n",
      "3              AL      Argo town                 87.5\n",
      "4              AL    Ariton town                 71.3\n",
      "\n",
      "\n",
      "  Geographic Area           City percent_completed_hs\n",
      "0              AL  Anniston city                 79.8\n",
      "1              AL      Arab city                 87.6\n",
      "2              AL   Ardmore town                 77.7\n",
      "3              AL      Argo town                 87.5\n",
      "4              AL    Ariton town                 71.3\n",
      "\n",
      "\n"
     ]
    }
   ],
   "source": [
    "for file in all_csv_Files:\n",
    "    df = pd.read_csv(file,encoding='latin1')\n",
    "    print(df.head())\n",
    "    print('\\n')\n",
    "# the data are not meesy in the csv files"
   ]
  },
  {
   "cell_type": "code",
   "execution_count": 33,
   "metadata": {},
   "outputs": [
    {
     "name": "stdout",
     "output_type": "stream",
     "text": [
      "   Unnamed: 0  Unnamed: 1  Unnamed: 2  Unnamed: 3       Unnamed: 4  \\\n",
      "0         NaN         NaN         NaN         NaN              NaN   \n",
      "1         NaN         NaN         NaN         NaN              NaN   \n",
      "2         NaN         NaN         NaN         NaN              NaN   \n",
      "3         NaN         NaN         NaN         NaN  Geographic Area   \n",
      "4         NaN         NaN         NaN         NaN               AL   \n",
      "\n",
      "      Unnamed: 5            Unnamed: 6  \n",
      "0            NaN                   NaN  \n",
      "1            NaN                   NaN  \n",
      "2            NaN                   NaN  \n",
      "3           City  percent_completed_hs  \n",
      "4  Anniston city                  79.8  \n",
      "\n",
      "\n"
     ]
    }
   ],
   "source": [
    "for file in all_excel_Files:\n",
    "    df = pd.read_excel(file)\n",
    "    print(df.head())\n",
    "    print('\\n')\n",
    "    \n",
    "# the data in excel files are pretty messy. a lot of null values and the column names are wrong."
   ]
  },
  {
   "cell_type": "markdown",
   "metadata": {},
   "source": [
    "# For convenience's sake, I will just work on the xlsx file. \n"
   ]
  },
  {
   "cell_type": "code",
   "execution_count": 726,
   "metadata": {},
   "outputs": [
    {
     "data": {
      "text/html": [
       "<div>\n",
       "<style scoped>\n",
       "    .dataframe tbody tr th:only-of-type {\n",
       "        vertical-align: middle;\n",
       "    }\n",
       "\n",
       "    .dataframe tbody tr th {\n",
       "        vertical-align: top;\n",
       "    }\n",
       "\n",
       "    .dataframe thead th {\n",
       "        text-align: right;\n",
       "    }\n",
       "</style>\n",
       "<table border=\"1\" class=\"dataframe\">\n",
       "  <thead>\n",
       "    <tr style=\"text-align: right;\">\n",
       "      <th></th>\n",
       "      <th>Unnamed: 0</th>\n",
       "      <th>Unnamed: 1</th>\n",
       "      <th>Unnamed: 2</th>\n",
       "      <th>Unnamed: 3</th>\n",
       "      <th>Unnamed: 4</th>\n",
       "      <th>Unnamed: 5</th>\n",
       "      <th>Unnamed: 6</th>\n",
       "    </tr>\n",
       "  </thead>\n",
       "  <tbody>\n",
       "    <tr>\n",
       "      <th>0</th>\n",
       "      <td>NaN</td>\n",
       "      <td>NaN</td>\n",
       "      <td>NaN</td>\n",
       "      <td>NaN</td>\n",
       "      <td>NaN</td>\n",
       "      <td>NaN</td>\n",
       "      <td>NaN</td>\n",
       "    </tr>\n",
       "    <tr>\n",
       "      <th>1</th>\n",
       "      <td>NaN</td>\n",
       "      <td>NaN</td>\n",
       "      <td>NaN</td>\n",
       "      <td>NaN</td>\n",
       "      <td>NaN</td>\n",
       "      <td>NaN</td>\n",
       "      <td>NaN</td>\n",
       "    </tr>\n",
       "    <tr>\n",
       "      <th>2</th>\n",
       "      <td>NaN</td>\n",
       "      <td>NaN</td>\n",
       "      <td>NaN</td>\n",
       "      <td>NaN</td>\n",
       "      <td>NaN</td>\n",
       "      <td>NaN</td>\n",
       "      <td>NaN</td>\n",
       "    </tr>\n",
       "    <tr>\n",
       "      <th>3</th>\n",
       "      <td>NaN</td>\n",
       "      <td>NaN</td>\n",
       "      <td>NaN</td>\n",
       "      <td>NaN</td>\n",
       "      <td>Geographic Area</td>\n",
       "      <td>City</td>\n",
       "      <td>percent_completed_hs</td>\n",
       "    </tr>\n",
       "    <tr>\n",
       "      <th>4</th>\n",
       "      <td>NaN</td>\n",
       "      <td>NaN</td>\n",
       "      <td>NaN</td>\n",
       "      <td>NaN</td>\n",
       "      <td>AL</td>\n",
       "      <td>Anniston city</td>\n",
       "      <td>79.8</td>\n",
       "    </tr>\n",
       "  </tbody>\n",
       "</table>\n",
       "</div>"
      ],
      "text/plain": [
       "   Unnamed: 0  Unnamed: 1  Unnamed: 2  Unnamed: 3       Unnamed: 4  \\\n",
       "0         NaN         NaN         NaN         NaN              NaN   \n",
       "1         NaN         NaN         NaN         NaN              NaN   \n",
       "2         NaN         NaN         NaN         NaN              NaN   \n",
       "3         NaN         NaN         NaN         NaN  Geographic Area   \n",
       "4         NaN         NaN         NaN         NaN               AL   \n",
       "\n",
       "      Unnamed: 5            Unnamed: 6  \n",
       "0            NaN                   NaN  \n",
       "1            NaN                   NaN  \n",
       "2            NaN                   NaN  \n",
       "3           City  percent_completed_hs  \n",
       "4  Anniston city                  79.8  "
      ]
     },
     "execution_count": 726,
     "metadata": {},
     "output_type": "execute_result"
    }
   ],
   "source": [
    "# for single file\n",
    "df = pd.read_excel('/Users/michaelzeng/Library/Mobile Documents/com~apple~CloudDocs/python projects/HS2.xlsx')\n",
    "df.head()"
   ]
  },
  {
   "cell_type": "code",
   "execution_count": 727,
   "metadata": {},
   "outputs": [
    {
     "data": {
      "text/html": [
       "<div>\n",
       "<style scoped>\n",
       "    .dataframe tbody tr th:only-of-type {\n",
       "        vertical-align: middle;\n",
       "    }\n",
       "\n",
       "    .dataframe tbody tr th {\n",
       "        vertical-align: top;\n",
       "    }\n",
       "\n",
       "    .dataframe thead th {\n",
       "        text-align: right;\n",
       "    }\n",
       "</style>\n",
       "<table border=\"1\" class=\"dataframe\">\n",
       "  <thead>\n",
       "    <tr style=\"text-align: right;\">\n",
       "      <th></th>\n",
       "      <th>Unnamed: 4</th>\n",
       "      <th>Unnamed: 5</th>\n",
       "      <th>Unnamed: 6</th>\n",
       "    </tr>\n",
       "  </thead>\n",
       "  <tbody>\n",
       "    <tr>\n",
       "      <th>3</th>\n",
       "      <td>Geographic Area</td>\n",
       "      <td>City</td>\n",
       "      <td>percent_completed_hs</td>\n",
       "    </tr>\n",
       "    <tr>\n",
       "      <th>4</th>\n",
       "      <td>AL</td>\n",
       "      <td>Anniston city</td>\n",
       "      <td>79.8</td>\n",
       "    </tr>\n",
       "    <tr>\n",
       "      <th>5</th>\n",
       "      <td>AL</td>\n",
       "      <td>Arab city</td>\n",
       "      <td>87.6</td>\n",
       "    </tr>\n",
       "    <tr>\n",
       "      <th>6</th>\n",
       "      <td>AL</td>\n",
       "      <td>Ardmore town</td>\n",
       "      <td>77.7</td>\n",
       "    </tr>\n",
       "    <tr>\n",
       "      <th>7</th>\n",
       "      <td>AL</td>\n",
       "      <td>Argo town</td>\n",
       "      <td>87.5</td>\n",
       "    </tr>\n",
       "  </tbody>\n",
       "</table>\n",
       "</div>"
      ],
      "text/plain": [
       "        Unnamed: 4     Unnamed: 5            Unnamed: 6\n",
       "3  Geographic Area           City  percent_completed_hs\n",
       "4               AL  Anniston city                  79.8\n",
       "5               AL      Arab city                  87.6\n",
       "6               AL   Ardmore town                  77.7\n",
       "7               AL      Argo town                  87.5"
      ]
     },
     "execution_count": 727,
     "metadata": {},
     "output_type": "execute_result"
    }
   ],
   "source": [
    "#drop the columns and rows that contain all null values\n",
    "df.dropna(how='all',axis=1, inplace=True)\n",
    "df.dropna(how='all',axis=0, inplace=True)\n",
    "df.head()"
   ]
  },
  {
   "cell_type": "code",
   "execution_count": 728,
   "metadata": {},
   "outputs": [
    {
     "data": {
      "text/html": [
       "<div>\n",
       "<style scoped>\n",
       "    .dataframe tbody tr th:only-of-type {\n",
       "        vertical-align: middle;\n",
       "    }\n",
       "\n",
       "    .dataframe tbody tr th {\n",
       "        vertical-align: top;\n",
       "    }\n",
       "\n",
       "    .dataframe thead th {\n",
       "        text-align: right;\n",
       "    }\n",
       "</style>\n",
       "<table border=\"1\" class=\"dataframe\">\n",
       "  <thead>\n",
       "    <tr style=\"text-align: right;\">\n",
       "      <th></th>\n",
       "      <th>Geographic Area</th>\n",
       "      <th>City</th>\n",
       "      <th>percent_completed_hs</th>\n",
       "    </tr>\n",
       "  </thead>\n",
       "  <tbody>\n",
       "    <tr>\n",
       "      <th>0</th>\n",
       "      <td>AL</td>\n",
       "      <td>Anniston city</td>\n",
       "      <td>79.8</td>\n",
       "    </tr>\n",
       "    <tr>\n",
       "      <th>1</th>\n",
       "      <td>AL</td>\n",
       "      <td>Arab city</td>\n",
       "      <td>87.6</td>\n",
       "    </tr>\n",
       "    <tr>\n",
       "      <th>2</th>\n",
       "      <td>AL</td>\n",
       "      <td>Ardmore town</td>\n",
       "      <td>77.7</td>\n",
       "    </tr>\n",
       "    <tr>\n",
       "      <th>3</th>\n",
       "      <td>AL</td>\n",
       "      <td>Argo town</td>\n",
       "      <td>87.5</td>\n",
       "    </tr>\n",
       "    <tr>\n",
       "      <th>4</th>\n",
       "      <td>AL</td>\n",
       "      <td>Ariton town</td>\n",
       "      <td>71.3</td>\n",
       "    </tr>\n",
       "  </tbody>\n",
       "</table>\n",
       "</div>"
      ],
      "text/plain": [
       "  Geographic Area           City percent_completed_hs\n",
       "0              AL  Anniston city                 79.8\n",
       "1              AL      Arab city                 87.6\n",
       "2              AL   Ardmore town                 77.7\n",
       "3              AL      Argo town                 87.5\n",
       "4              AL    Ariton town                 71.3"
      ]
     },
     "execution_count": 728,
     "metadata": {},
     "output_type": "execute_result"
    }
   ],
   "source": [
    "# set the first row as the column names\n",
    "# using .values to prevent extracting the index 3\n",
    "header= df.iloc[0].values \n",
    "\n",
    "# remove the first row since it will be used as the column names\n",
    "df = df[1:]\n",
    "\n",
    "# set the new column names\n",
    "df.columns = header\n",
    "\n",
    "# reset the idex and drop the original one.\n",
    "df=df.reset_index(drop=True)\n",
    "df.head()"
   ]
  },
  {
   "cell_type": "code",
   "execution_count": 729,
   "metadata": {},
   "outputs": [
    {
     "data": {
      "text/plain": [
       "Geographic Area         0\n",
       "City                    0\n",
       "percent_completed_hs    0\n",
       "dtype: int64"
      ]
     },
     "execution_count": 729,
     "metadata": {},
     "output_type": "execute_result"
    }
   ],
   "source": [
    "# check to see if there are missing values in either of the columns.\n",
    "df.isnull().sum()"
   ]
  },
  {
   "cell_type": "code",
   "execution_count": 739,
   "metadata": {},
   "outputs": [
    {
     "name": "stdout",
     "output_type": "stream",
     "text": [
      "<class 'pandas.core.frame.DataFrame'>\n",
      "RangeIndex: 29315 entries, 0 to 29314\n",
      "Data columns (total 3 columns):\n",
      "Geographic Area         29315 non-null object\n",
      "City                    29315 non-null object\n",
      "percent_completed_hs    29315 non-null object\n",
      "dtypes: object(3)\n",
      "memory usage: 687.1+ KB\n"
     ]
    }
   ],
   "source": [
    "df.info()\n",
    "\n",
    "# the data type for percent_completed_hs shold be float type, not str"
   ]
  },
  {
   "cell_type": "code",
   "execution_count": 741,
   "metadata": {},
   "outputs": [],
   "source": [
    "# remove the special char in each value. if the value is empty or any other char, replace it with empty str\n",
    "# only keep values that between 0-9 and '.'.\n",
    "import re\n",
    "for i in range(len(df['percent_completed_hs'])):\n",
    "    df['percent_completed_hs'][i] = re.sub('[^0-9.]','', df['percent_completed_hs'][i])"
   ]
  },
  {
   "cell_type": "code",
   "execution_count": 742,
   "metadata": {},
   "outputs": [
    {
     "data": {
      "text/html": [
       "<div>\n",
       "<style scoped>\n",
       "    .dataframe tbody tr th:only-of-type {\n",
       "        vertical-align: middle;\n",
       "    }\n",
       "\n",
       "    .dataframe tbody tr th {\n",
       "        vertical-align: top;\n",
       "    }\n",
       "\n",
       "    .dataframe thead th {\n",
       "        text-align: right;\n",
       "    }\n",
       "</style>\n",
       "<table border=\"1\" class=\"dataframe\">\n",
       "  <thead>\n",
       "    <tr style=\"text-align: right;\">\n",
       "      <th></th>\n",
       "      <th>Geographic Area</th>\n",
       "      <th>City</th>\n",
       "      <th>percent_completed_hs</th>\n",
       "    </tr>\n",
       "  </thead>\n",
       "  <tbody>\n",
       "    <tr>\n",
       "      <th>0</th>\n",
       "      <td>AL</td>\n",
       "      <td>Anniston city</td>\n",
       "      <td>79.8</td>\n",
       "    </tr>\n",
       "    <tr>\n",
       "      <th>1</th>\n",
       "      <td>AL</td>\n",
       "      <td>Arab city</td>\n",
       "      <td>87.6</td>\n",
       "    </tr>\n",
       "    <tr>\n",
       "      <th>2</th>\n",
       "      <td>AL</td>\n",
       "      <td>Ardmore town</td>\n",
       "      <td>77.7</td>\n",
       "    </tr>\n",
       "    <tr>\n",
       "      <th>3</th>\n",
       "      <td>AL</td>\n",
       "      <td>Argo town</td>\n",
       "      <td>87.5</td>\n",
       "    </tr>\n",
       "    <tr>\n",
       "      <th>4</th>\n",
       "      <td>AL</td>\n",
       "      <td>Ariton town</td>\n",
       "      <td>71.3</td>\n",
       "    </tr>\n",
       "  </tbody>\n",
       "</table>\n",
       "</div>"
      ],
      "text/plain": [
       "  Geographic Area           City percent_completed_hs\n",
       "0              AL  Anniston city                 79.8\n",
       "1              AL      Arab city                 87.6\n",
       "2              AL   Ardmore town                 77.7\n",
       "3              AL      Argo town                 87.5\n",
       "4              AL    Ariton town                 71.3"
      ]
     },
     "execution_count": 742,
     "metadata": {},
     "output_type": "execute_result"
    }
   ],
   "source": [
    "df.head()"
   ]
  },
  {
   "cell_type": "code",
   "execution_count": 743,
   "metadata": {},
   "outputs": [
    {
     "name": "stdout",
     "output_type": "stream",
     "text": [
      "197\n"
     ]
    }
   ],
   "source": [
    "# After the above code, values that do not contain numbers but others should be just an empty cell now. \n",
    "# but they could be converted into float. \n",
    "a=0\n",
    "for i in df['percent_completed_hs']:\n",
    "    if i=='':\n",
    "        a+=1\n",
    "print(a)\n",
    "a=0\n",
    "\n",
    "# 197 values with an empty str"
   ]
  },
  {
   "cell_type": "code",
   "execution_count": 744,
   "metadata": {},
   "outputs": [],
   "source": [
    "# Set all those empty values to 0\n",
    "for i in range(len(df['percent_completed_hs'])):\n",
    "               if df['percent_completed_hs'][i]=='':\n",
    "                    df['percent_completed_hs'][i] = 0"
   ]
  },
  {
   "cell_type": "code",
   "execution_count": 745,
   "metadata": {},
   "outputs": [],
   "source": [
    "# convert the column to float data type\n",
    "df['percent_completed_hs'] = [float(x) for x in df['percent_completed_hs']]"
   ]
  },
  {
   "cell_type": "code",
   "execution_count": 747,
   "metadata": {},
   "outputs": [
    {
     "name": "stdout",
     "output_type": "stream",
     "text": [
      "<class 'pandas.core.frame.DataFrame'>\n",
      "RangeIndex: 29315 entries, 0 to 29314\n",
      "Data columns (total 3 columns):\n",
      "Geographic Area         29315 non-null object\n",
      "City                    29315 non-null object\n",
      "percent_completed_hs    29315 non-null float64\n",
      "dtypes: float64(1), object(2)\n",
      "memory usage: 687.1+ KB\n"
     ]
    }
   ],
   "source": [
    "df.info()"
   ]
  },
  {
   "cell_type": "code",
   "execution_count": 758,
   "metadata": {},
   "outputs": [
    {
     "data": {
      "text/plain": [
       "Geographic Area         0\n",
       "City                    0\n",
       "percent_completed_hs    0\n",
       "dtype: int64"
      ]
     },
     "execution_count": 758,
     "metadata": {},
     "output_type": "execute_result"
    }
   ],
   "source": [
    "df.isnull().sum()"
   ]
  },
  {
   "cell_type": "code",
   "execution_count": 823,
   "metadata": {},
   "outputs": [],
   "source": [
    "# establish the connect with MySQL\n",
    "import pymysql\n",
    "conn = pymysql.connect(host='localhost', user='root', password='1125', db='just trying') \n",
    "cursor = conn.cursor()"
   ]
  },
  {
   "cell_type": "code",
   "execution_count": 824,
   "metadata": {},
   "outputs": [
    {
     "name": "stdout",
     "output_type": "stream",
     "text": [
      "id Geographic Area City percent_completed_hs "
     ]
    }
   ],
   "source": [
    "# get all the column name from the database\n",
    "\n",
    "query = 'SELECT COLUMN_NAME FROM INFORMATION_SCHEMA.COLUMNS WHERE TABLE_SCHEMA=\"just trying\" AND TABLE_NAME=\"frompy\";'\n",
    "cursor.execute(query)\n",
    "data = cursor.fetchall()\n",
    "for i in data:\n",
    "    print(*i, end=' ')\n",
    "    \n",
    "# now you can just copy the column names and use it."
   ]
  },
  {
   "cell_type": "code",
   "execution_count": 790,
   "metadata": {},
   "outputs": [],
   "source": [
    "query = 'insert into frompy (`Geographic Area`,City,percent_completed_hs);'\n",
    "for i in df2:\n",
    "    cursor.execute('insert into frompy (`Geographic Area`, City, percent_completed_hs)' 'values(\"%s\", \"%s\", \"%s\")', [*i])\n",
    "conn.commit()\n",
    "\n",
    "\n",
    "# it worked. :)"
   ]
  },
  {
   "cell_type": "code",
   "execution_count": 828,
   "metadata": {},
   "outputs": [
    {
     "name": "stdout",
     "output_type": "stream",
     "text": [
      "1 'AL' 'Anniston city' 79.8\n",
      "2 'AL' 'Arab city' 87.6\n",
      "3 'AL' 'Ardmore town' 77.7\n",
      "4 'AL' 'Argo town' 87.5\n",
      "5 'AL' 'Ariton town' 71.3\n",
      "6 'AL' 'Arley town' 80.6\n",
      "7 'AL' 'Ashford town' 83.5\n",
      "8 'AL' 'Ashland town' 77.9\n",
      "9 'AL' 'Ashville city' 77.6\n",
      "10 'AL' 'Athens city' 83.4\n"
     ]
    }
   ],
   "source": [
    "query = 'select * from frompy;'\n",
    "cursor.execute(query)\n",
    "data = cursor.fetchall()\n",
    "a=0\n",
    "for i in data:\n",
    "    print(*i)\n",
    "    a+=1\n",
    "    if(a==10):\n",
    "        break"
   ]
  },
  {
   "cell_type": "code",
   "execution_count": 820,
   "metadata": {},
   "outputs": [],
   "source": [
    "cursor.close()\n",
    "conn.close()"
   ]
  },
  {
   "cell_type": "code",
   "execution_count": null,
   "metadata": {},
   "outputs": [],
   "source": [
    "# data are successfully loaded into the database. \n",
    "# the remain problem is that the name of the states and cities contain the str '', for example, 'NY'. "
   ]
  },
  {
   "cell_type": "code",
   "execution_count": null,
   "metadata": {},
   "outputs": [],
   "source": []
  },
  {
   "cell_type": "code",
   "execution_count": null,
   "metadata": {},
   "outputs": [],
   "source": []
  },
  {
   "cell_type": "code",
   "execution_count": null,
   "metadata": {},
   "outputs": [],
   "source": []
  },
  {
   "cell_type": "markdown",
   "metadata": {},
   "source": [
    "# In a nutshell"
   ]
  },
  {
   "cell_type": "code",
   "execution_count": 840,
   "metadata": {},
   "outputs": [
    {
     "name": "stdout",
     "output_type": "stream",
     "text": [
      "['/Users/michaelzeng/Library/Mobile Documents/com~apple~CloudDocs/python projects/HS2.xlsx']\n"
     ]
    }
   ],
   "source": [
    "file_path =r'/Users/michaelzeng/Library/Mobile Documents/com~apple~CloudDocs/python projects'\n",
    "all_excel_Files = glob.glob(file_path + \"/*.xlsx\")\n",
    "print(all_excel_Files)\n",
    "\n",
    "query = 'insert into frompy (`Geographic Area`,City,percent_completed_hs);'\n",
    " \n",
    "conn = pymysql.connect(host='localhost', user='root', password='1125', db='just trying') \n",
    "cursor = conn.cursor() \n"
   ]
  },
  {
   "cell_type": "code",
   "execution_count": 841,
   "metadata": {},
   "outputs": [
    {
     "name": "stdout",
     "output_type": "stream",
     "text": [
      "Display the data\n",
      "   Unnamed: 0  Unnamed: 1  Unnamed: 2  Unnamed: 3       Unnamed: 4  \\\n",
      "0         NaN         NaN         NaN         NaN              NaN   \n",
      "1         NaN         NaN         NaN         NaN              NaN   \n",
      "2         NaN         NaN         NaN         NaN              NaN   \n",
      "3         NaN         NaN         NaN         NaN  Geographic Area   \n",
      "4         NaN         NaN         NaN         NaN               AL   \n",
      "\n",
      "      Unnamed: 5            Unnamed: 6  \n",
      "0            NaN                   NaN  \n",
      "1            NaN                   NaN  \n",
      "2            NaN                   NaN  \n",
      "3           City  percent_completed_hs  \n",
      "4  Anniston city                  79.8  \n",
      "\n",
      "\n",
      "Drop the columns and rows contain entirely null values\n",
      "        Unnamed: 4     Unnamed: 5            Unnamed: 6\n",
      "3  Geographic Area           City  percent_completed_hs\n",
      "4               AL  Anniston city                  79.8\n",
      "5               AL      Arab city                  87.6\n",
      "6               AL   Ardmore town                  77.7\n",
      "7               AL      Argo town                  87.5\n",
      "\n",
      "\n",
      "Set the first row as the colmns name and then reset the index\n",
      "  Geographic Area           City percent_completed_hs\n",
      "0              AL  Anniston city                 79.8\n",
      "1              AL      Arab city                 87.6\n",
      "2              AL   Ardmore town                 77.7\n",
      "3              AL      Argo town                 87.5\n",
      "4              AL    Ariton town                 71.3\n",
      "\n",
      "\n",
      "Remove everything except 0-9 and \".\" \n",
      "\n",
      "\n",
      "Replace the empty srtrings with 0\n",
      "\n",
      "\n",
      "Convert the column to float data type\n",
      "\n",
      "\n",
      "<class 'pandas.core.frame.DataFrame'>\n",
      "RangeIndex: 29315 entries, 0 to 29314\n",
      "Data columns (total 3 columns):\n",
      "Geographic Area         29315 non-null object\n",
      "City                    29315 non-null object\n",
      "percent_completed_hs    29315 non-null float64\n",
      "dtypes: float64(1), object(2)\n",
      "memory usage: 687.1+ KB\n",
      "None\n",
      "\n",
      "\n",
      "Start loading the data into MySQl database\n",
      "Data loaded successfully\n",
      "\n",
      "\n",
      "\n",
      "\n",
      "Connection now terminated.\n"
     ]
    }
   ],
   "source": [
    "for file in all_excel_Files:\n",
    "    print('Display the data')\n",
    "    df = pd.read_excel(file,encoding='latin1')\n",
    "    print(df.head())\n",
    "    print('\\n')\n",
    "\n",
    "    # drop columns and rows that contain only null values\n",
    "    print('Drop the columns and rows contain entirely null values')\n",
    "    df = df.dropna(how='all', axis=1)\n",
    "    df = df.dropna(how='all', axis=0)\n",
    "    print(df.head())\n",
    "    print('\\n')\n",
    "    \n",
    "    # the first row contains the name of each column\n",
    "    print('Set the first row as the colmns name and then reset the index')\n",
    "    header= df.iloc[0].values \n",
    "    \n",
    "    # Since the first row will be used as the column name, so remove them.\n",
    "    df = df[1:]\n",
    "    \n",
    "    # set the new column name\n",
    "    df.columns = header\n",
    "    \n",
    "    # reset the index\n",
    "    df = df.reset_index(drop=True)\n",
    "    print(df.head())\n",
    "    print('\\n')\n",
    "        \n",
    "    print('Remove everything except 0-9 and \".\" ')\n",
    "    for i in range(len(df['percent_completed_hs'])):\n",
    "        df['percent_completed_hs'][i] = re.sub('[^0-9.]','', df['percent_completed_hs'][i])\n",
    "    print('\\n')\n",
    "\n",
    "    print('Replace the empty srtrings with 0')\n",
    "    for i in range(len(df['percent_completed_hs'])):\n",
    "               if df['percent_completed_hs'][i]=='':\n",
    "                    df['percent_completed_hs'][i] = 0\n",
    "    print('\\n')  \n",
    "    \n",
    "    print('Convert the column to float data type')\n",
    "    df['percent_completed_hs'] = [float(x) for x in df['percent_completed_hs']]\n",
    "    print('\\n')  \n",
    "    \n",
    "    print(df.info())\n",
    "    print('\\n')  \n",
    "\n",
    "    print('Start loading the data into MySQl database')  \n",
    "    try:\n",
    "        for i in df2:\n",
    "            cursor.execute('insert into frompy (`Geographic Area`, City, percent_completed_hs)' 'values(\"%s\", \"%s\", \"%s\")', [*i])\n",
    "        conn.commit()\n",
    "        print('Data loaded successfully')\n",
    "        print('\\n')  \n",
    "    except:\n",
    "        print('An error occured.')\n",
    "        print('\\n')  \n",
    "    \n",
    "    print('\\n')  \n",
    "    print('Connection now terminated.')\n",
    "    cursor.close()\n",
    "    conn.close()"
   ]
  },
  {
   "cell_type": "code",
   "execution_count": null,
   "metadata": {},
   "outputs": [],
   "source": [
    "# Nice. :)\n",
    "\n",
    "'AL', 'Gu-Win town',87.2\n",
    "'AL', 'Hackleburg town',76.5\n",
    "\n",
    "need to find a way to remove the ''. "
   ]
  }
 ],
 "metadata": {
  "kernelspec": {
   "display_name": "Python 3",
   "language": "python",
   "name": "python3"
  },
  "language_info": {
   "codemirror_mode": {
    "name": "ipython",
    "version": 3
   },
   "file_extension": ".py",
   "mimetype": "text/x-python",
   "name": "python",
   "nbconvert_exporter": "python",
   "pygments_lexer": "ipython3",
   "version": "3.6.4"
  }
 },
 "nbformat": 4,
 "nbformat_minor": 2
}
