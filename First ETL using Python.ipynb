{
 "cells": [
  {
   "cell_type": "code",
   "execution_count": 307,
   "metadata": {},
   "outputs": [],
   "source": [
    "import pandas as pd\n",
    "import numpy\n",
    "import glob"
   ]
  },
  {
   "cell_type": "code",
   "execution_count": 303,
   "metadata": {},
   "outputs": [],
   "source": [
    "file_path =r'/Users/michaelzeng/Library/Mobile Documents/com~apple~CloudDocs/python projects'"
   ]
  },
  {
   "cell_type": "code",
   "execution_count": 325,
   "metadata": {},
   "outputs": [
    {
     "name": "stdout",
     "output_type": "stream",
     "text": [
      "['/Users/michaelzeng/Library/Mobile Documents/com~apple~CloudDocs/python projects/HS.csv', '/Users/michaelzeng/Library/Mobile Documents/com~apple~CloudDocs/python projects/HS2.csv']\n",
      "['/Users/michaelzeng/Library/Mobile Documents/com~apple~CloudDocs/python projects/HS2.xlsx']\n"
     ]
    }
   ],
   "source": [
    "all_csv_Files = glob.glob(file_path + \"/*.csv\")\n",
    "all_excel_Files = glob.glob(file_path + \"/*.xlsx\")\n",
    "print(allFiles)\n",
    "print(all_excel_Files)"
   ]
  },
  {
   "cell_type": "code",
   "execution_count": 357,
   "metadata": {},
   "outputs": [
    {
     "name": "stdout",
     "output_type": "stream",
     "text": [
      "  Geographic Area           City percent_completed_hs\n",
      "0              AL  Anniston city                 79.8\n",
      "1              AL      Arab city                 87.6\n",
      "2              AL   Ardmore town                 77.7\n",
      "3              AL      Argo town                 87.5\n",
      "4              AL    Ariton town                 71.3\n",
      "\n",
      "\n",
      "  Geographic Area           City percent_completed_hs\n",
      "0              AL  Anniston city                 79.8\n",
      "1              AL      Arab city                 87.6\n",
      "2              AL   Ardmore town                 77.7\n",
      "3              AL      Argo town                 87.5\n",
      "4              AL    Ariton town                 71.3\n",
      "\n",
      "\n"
     ]
    }
   ],
   "source": [
    "for file in all_csv_Files:\n",
    "    df = pd.read_csv(file,encoding='latin1')\n",
    "    print(df.head())\n",
    "    print('\\n')"
   ]
  },
  {
   "cell_type": "code",
   "execution_count": 358,
   "metadata": {},
   "outputs": [
    {
     "name": "stdout",
     "output_type": "stream",
     "text": [
      "   Unnamed: 0  Unnamed: 1  Unnamed: 2  Unnamed: 3       Unnamed: 4  \\\n",
      "0         NaN         NaN         NaN         NaN              NaN   \n",
      "1         NaN         NaN         NaN         NaN              NaN   \n",
      "2         NaN         NaN         NaN         NaN              NaN   \n",
      "3         NaN         NaN         NaN         NaN  Geographic Area   \n",
      "4         NaN         NaN         NaN         NaN               AL   \n",
      "\n",
      "      Unnamed: 5            Unnamed: 6  \n",
      "0            NaN                   NaN  \n",
      "1            NaN                   NaN  \n",
      "2            NaN                   NaN  \n",
      "3           City  percent_completed_hs  \n",
      "4  Anniston city                  79.8  \n",
      "\n",
      "\n"
     ]
    }
   ],
   "source": [
    "for file in all_excel_Files:\n",
    "    df = pd.read_excel(file,encoding='latin1')\n",
    "    print(df.head())\n",
    "    print('\\n')"
   ]
  },
  {
   "cell_type": "markdown",
   "metadata": {},
   "source": [
    "# runing a single file to check the accuracy"
   ]
  },
  {
   "cell_type": "code",
   "execution_count": 362,
   "metadata": {},
   "outputs": [
    {
     "data": {
      "text/html": [
       "<div>\n",
       "<style scoped>\n",
       "    .dataframe tbody tr th:only-of-type {\n",
       "        vertical-align: middle;\n",
       "    }\n",
       "\n",
       "    .dataframe tbody tr th {\n",
       "        vertical-align: top;\n",
       "    }\n",
       "\n",
       "    .dataframe thead th {\n",
       "        text-align: right;\n",
       "    }\n",
       "</style>\n",
       "<table border=\"1\" class=\"dataframe\">\n",
       "  <thead>\n",
       "    <tr style=\"text-align: right;\">\n",
       "      <th></th>\n",
       "      <th>Unnamed: 0</th>\n",
       "      <th>Unnamed: 1</th>\n",
       "      <th>Unnamed: 2</th>\n",
       "      <th>Unnamed: 3</th>\n",
       "      <th>Unnamed: 4</th>\n",
       "      <th>Unnamed: 5</th>\n",
       "      <th>Unnamed: 6</th>\n",
       "    </tr>\n",
       "  </thead>\n",
       "  <tbody>\n",
       "    <tr>\n",
       "      <th>0</th>\n",
       "      <td>NaN</td>\n",
       "      <td>NaN</td>\n",
       "      <td>NaN</td>\n",
       "      <td>NaN</td>\n",
       "      <td>NaN</td>\n",
       "      <td>NaN</td>\n",
       "      <td>NaN</td>\n",
       "    </tr>\n",
       "    <tr>\n",
       "      <th>1</th>\n",
       "      <td>NaN</td>\n",
       "      <td>NaN</td>\n",
       "      <td>NaN</td>\n",
       "      <td>NaN</td>\n",
       "      <td>NaN</td>\n",
       "      <td>NaN</td>\n",
       "      <td>NaN</td>\n",
       "    </tr>\n",
       "    <tr>\n",
       "      <th>2</th>\n",
       "      <td>NaN</td>\n",
       "      <td>NaN</td>\n",
       "      <td>NaN</td>\n",
       "      <td>NaN</td>\n",
       "      <td>NaN</td>\n",
       "      <td>NaN</td>\n",
       "      <td>NaN</td>\n",
       "    </tr>\n",
       "    <tr>\n",
       "      <th>3</th>\n",
       "      <td>NaN</td>\n",
       "      <td>NaN</td>\n",
       "      <td>NaN</td>\n",
       "      <td>NaN</td>\n",
       "      <td>Geographic Area</td>\n",
       "      <td>City</td>\n",
       "      <td>percent_completed_hs</td>\n",
       "    </tr>\n",
       "    <tr>\n",
       "      <th>4</th>\n",
       "      <td>NaN</td>\n",
       "      <td>NaN</td>\n",
       "      <td>NaN</td>\n",
       "      <td>NaN</td>\n",
       "      <td>AL</td>\n",
       "      <td>Anniston city</td>\n",
       "      <td>79.8</td>\n",
       "    </tr>\n",
       "  </tbody>\n",
       "</table>\n",
       "</div>"
      ],
      "text/plain": [
       "   Unnamed: 0  Unnamed: 1  Unnamed: 2  Unnamed: 3       Unnamed: 4  \\\n",
       "0         NaN         NaN         NaN         NaN              NaN   \n",
       "1         NaN         NaN         NaN         NaN              NaN   \n",
       "2         NaN         NaN         NaN         NaN              NaN   \n",
       "3         NaN         NaN         NaN         NaN  Geographic Area   \n",
       "4         NaN         NaN         NaN         NaN               AL   \n",
       "\n",
       "      Unnamed: 5            Unnamed: 6  \n",
       "0            NaN                   NaN  \n",
       "1            NaN                   NaN  \n",
       "2            NaN                   NaN  \n",
       "3           City  percent_completed_hs  \n",
       "4  Anniston city                  79.8  "
      ]
     },
     "execution_count": 362,
     "metadata": {},
     "output_type": "execute_result"
    }
   ],
   "source": [
    "# for single file\n",
    "df = pd.read_excel('HS2.xlsx', sheet_name='HS', path=file_path)\n",
    "df.head()"
   ]
  },
  {
   "cell_type": "code",
   "execution_count": 363,
   "metadata": {},
   "outputs": [
    {
     "data": {
      "text/html": [
       "<div>\n",
       "<style scoped>\n",
       "    .dataframe tbody tr th:only-of-type {\n",
       "        vertical-align: middle;\n",
       "    }\n",
       "\n",
       "    .dataframe tbody tr th {\n",
       "        vertical-align: top;\n",
       "    }\n",
       "\n",
       "    .dataframe thead th {\n",
       "        text-align: right;\n",
       "    }\n",
       "</style>\n",
       "<table border=\"1\" class=\"dataframe\">\n",
       "  <thead>\n",
       "    <tr style=\"text-align: right;\">\n",
       "      <th></th>\n",
       "      <th>Unnamed: 4</th>\n",
       "      <th>Unnamed: 5</th>\n",
       "      <th>Unnamed: 6</th>\n",
       "    </tr>\n",
       "  </thead>\n",
       "  <tbody>\n",
       "    <tr>\n",
       "      <th>3</th>\n",
       "      <td>Geographic Area</td>\n",
       "      <td>City</td>\n",
       "      <td>percent_completed_hs</td>\n",
       "    </tr>\n",
       "    <tr>\n",
       "      <th>4</th>\n",
       "      <td>AL</td>\n",
       "      <td>Anniston city</td>\n",
       "      <td>79.8</td>\n",
       "    </tr>\n",
       "    <tr>\n",
       "      <th>5</th>\n",
       "      <td>AL</td>\n",
       "      <td>Arab city</td>\n",
       "      <td>87.6</td>\n",
       "    </tr>\n",
       "    <tr>\n",
       "      <th>6</th>\n",
       "      <td>AL</td>\n",
       "      <td>Ardmore town</td>\n",
       "      <td>77.7</td>\n",
       "    </tr>\n",
       "    <tr>\n",
       "      <th>7</th>\n",
       "      <td>AL</td>\n",
       "      <td>Argo town</td>\n",
       "      <td>87.5</td>\n",
       "    </tr>\n",
       "  </tbody>\n",
       "</table>\n",
       "</div>"
      ],
      "text/plain": [
       "        Unnamed: 4     Unnamed: 5            Unnamed: 6\n",
       "3  Geographic Area           City  percent_completed_hs\n",
       "4               AL  Anniston city                  79.8\n",
       "5               AL      Arab city                  87.6\n",
       "6               AL   Ardmore town                  77.7\n",
       "7               AL      Argo town                  87.5"
      ]
     },
     "execution_count": 363,
     "metadata": {},
     "output_type": "execute_result"
    }
   ],
   "source": [
    "#drop the columns and rows that contain all null values\n",
    "df.dropna(how='all',axis=1, inplace=True)\n",
    "df.dropna(how='all',axis=0, inplace=True)\n",
    "df.head()"
   ]
  },
  {
   "cell_type": "code",
   "execution_count": 364,
   "metadata": {},
   "outputs": [
    {
     "data": {
      "text/html": [
       "<div>\n",
       "<style scoped>\n",
       "    .dataframe tbody tr th:only-of-type {\n",
       "        vertical-align: middle;\n",
       "    }\n",
       "\n",
       "    .dataframe tbody tr th {\n",
       "        vertical-align: top;\n",
       "    }\n",
       "\n",
       "    .dataframe thead th {\n",
       "        text-align: right;\n",
       "    }\n",
       "</style>\n",
       "<table border=\"1\" class=\"dataframe\">\n",
       "  <thead>\n",
       "    <tr style=\"text-align: right;\">\n",
       "      <th></th>\n",
       "      <th>Geographic Area</th>\n",
       "      <th>City</th>\n",
       "      <th>percent_completed_hs</th>\n",
       "    </tr>\n",
       "  </thead>\n",
       "  <tbody>\n",
       "    <tr>\n",
       "      <th>0</th>\n",
       "      <td>AL</td>\n",
       "      <td>Anniston city</td>\n",
       "      <td>79.8</td>\n",
       "    </tr>\n",
       "    <tr>\n",
       "      <th>1</th>\n",
       "      <td>AL</td>\n",
       "      <td>Arab city</td>\n",
       "      <td>87.6</td>\n",
       "    </tr>\n",
       "    <tr>\n",
       "      <th>2</th>\n",
       "      <td>AL</td>\n",
       "      <td>Ardmore town</td>\n",
       "      <td>77.7</td>\n",
       "    </tr>\n",
       "    <tr>\n",
       "      <th>3</th>\n",
       "      <td>AL</td>\n",
       "      <td>Argo town</td>\n",
       "      <td>87.5</td>\n",
       "    </tr>\n",
       "    <tr>\n",
       "      <th>4</th>\n",
       "      <td>AL</td>\n",
       "      <td>Ariton town</td>\n",
       "      <td>71.3</td>\n",
       "    </tr>\n",
       "  </tbody>\n",
       "</table>\n",
       "</div>"
      ],
      "text/plain": [
       "  Geographic Area           City percent_completed_hs\n",
       "0              AL  Anniston city                 79.8\n",
       "1              AL      Arab city                 87.6\n",
       "2              AL   Ardmore town                 77.7\n",
       "3              AL      Argo town                 87.5\n",
       "4              AL    Ariton town                 71.3"
      ]
     },
     "execution_count": 364,
     "metadata": {},
     "output_type": "execute_result"
    }
   ],
   "source": [
    "# set the first row as the column names\n",
    "# using .values to prevent extracting the index 3\n",
    "header= df.iloc[0].values \n",
    "\n",
    "# remove the first row since it will be used as the column names\n",
    "df = df[1:]\n",
    "\n",
    "# set the new column names\n",
    "df.columns = header\n",
    "\n",
    "# reset the idex and drop the original one.\n",
    "df=df.reset_index(drop=True)\n",
    "df.head()"
   ]
  },
  {
   "cell_type": "markdown",
   "metadata": {},
   "source": [
    "# Reading only a sinfle file each time is not efficient. The below method will read all the excel and csv files in the folder and clean them base on the issues they contain. The problem will be how messy the data in the files will be."
   ]
  },
  {
   "cell_type": "code",
   "execution_count": 365,
   "metadata": {},
   "outputs": [
    {
     "name": "stdout",
     "output_type": "stream",
     "text": [
      "  Geographic Area           City percent_completed_hs\n",
      "0              AL  Anniston city                 79.8\n",
      "1              AL      Arab city                 87.6\n",
      "2              AL   Ardmore town                 77.7\n",
      "3              AL      Argo town                 87.5\n",
      "4              AL    Ariton town                 71.3\n",
      "\n",
      "\n",
      "  Geographic Area           City percent_completed_hs\n",
      "0              AL  Anniston city                 79.8\n",
      "1              AL      Arab city                 87.6\n",
      "2              AL   Ardmore town                 77.7\n",
      "3              AL      Argo town                 87.5\n",
      "4              AL    Ariton town                 71.3\n",
      "\n",
      "\n",
      "  Geographic Area           City percent_completed_hs\n",
      "0              AL  Anniston city                 79.8\n",
      "1              AL      Arab city                 87.6\n",
      "2              AL   Ardmore town                 77.7\n",
      "3              AL      Argo town                 87.5\n",
      "4              AL    Ariton town                 71.3\n",
      "\n",
      "\n",
      "  Geographic Area           City percent_completed_hs\n",
      "0              AL  Anniston city                 79.8\n",
      "1              AL      Arab city                 87.6\n",
      "2              AL   Ardmore town                 77.7\n",
      "3              AL      Argo town                 87.5\n",
      "4              AL    Ariton town                 71.3\n",
      "\n",
      "\n"
     ]
    }
   ],
   "source": [
    "# iterate through each file\n",
    "for file in all_csv_Files:\n",
    "    df = pd.read_csv(file,encoding='latin1')\n",
    "    print(df.head())\n",
    "    print('\\n')\n",
    "    # drop columns and rows that contain only null values\n",
    "    df = df.dropna(how='all', axis=1)\n",
    "    df = df.dropna(how='all', axis=0)\n",
    "    print(df.head())\n",
    "    print('\\n')\n",
    "# the data in the csv files are not messy at all"
   ]
  },
  {
   "cell_type": "code",
   "execution_count": 366,
   "metadata": {},
   "outputs": [
    {
     "name": "stdout",
     "output_type": "stream",
     "text": [
      "   Unnamed: 0  Unnamed: 1  Unnamed: 2  Unnamed: 3       Unnamed: 4  \\\n",
      "0         NaN         NaN         NaN         NaN              NaN   \n",
      "1         NaN         NaN         NaN         NaN              NaN   \n",
      "2         NaN         NaN         NaN         NaN              NaN   \n",
      "3         NaN         NaN         NaN         NaN  Geographic Area   \n",
      "4         NaN         NaN         NaN         NaN               AL   \n",
      "\n",
      "      Unnamed: 5            Unnamed: 6  \n",
      "0            NaN                   NaN  \n",
      "1            NaN                   NaN  \n",
      "2            NaN                   NaN  \n",
      "3           City  percent_completed_hs  \n",
      "4  Anniston city                  79.8  \n",
      "\n",
      "\n",
      "        Unnamed: 4     Unnamed: 5            Unnamed: 6\n",
      "3  Geographic Area           City  percent_completed_hs\n",
      "4               AL  Anniston city                  79.8\n",
      "5               AL      Arab city                  87.6\n",
      "6               AL   Ardmore town                  77.7\n",
      "7               AL      Argo town                  87.5\n",
      "\n",
      "\n",
      "  Geographic Area           City percent_completed_hs\n",
      "0              AL  Anniston city                 79.8\n",
      "1              AL      Arab city                 87.6\n",
      "2              AL   Ardmore town                 77.7\n",
      "3              AL      Argo town                 87.5\n",
      "4              AL    Ariton town                 71.3\n",
      "\n",
      "\n"
     ]
    }
   ],
   "source": [
    "for file in all_excel_Files:\n",
    "    df = pd.read_excel(file,encoding='latin1')\n",
    "    print(df.head())\n",
    "    print('\\n')\n",
    "\n",
    "    # drop columns and rows that contain only null values\n",
    "    df = df.dropna(how='all', axis=1)\n",
    "    df = df.dropna(how='all', axis=0)\n",
    "    print(df.head())\n",
    "    print('\\n')\n",
    "    \n",
    "    # the first row contains the name of each column\n",
    "    header= df.iloc[0].values \n",
    "    \n",
    "    # Since the first row will be used as the column name, so remove them.\n",
    "    df = df[1:]\n",
    "    \n",
    "    # set the new column name\n",
    "    df.columns = header\n",
    "    \n",
    "    # reset the index\n",
    "    df = df.reset_index(drop=True)\n",
    "    print(df.head())\n",
    "    print('\\n')\n"
   ]
  },
  {
   "cell_type": "markdown",
   "metadata": {},
   "source": [
    "# Fantastic. Now let's load the data into MySQL database"
   ]
  },
  {
   "cell_type": "code",
   "execution_count": null,
   "metadata": {},
   "outputs": [],
   "source": [
    "will do it tomorrow\n"
   ]
  }
 ],
 "metadata": {
  "kernelspec": {
   "display_name": "Python 3",
   "language": "python",
   "name": "python3"
  },
  "language_info": {
   "codemirror_mode": {
    "name": "ipython",
    "version": 3
   },
   "file_extension": ".py",
   "mimetype": "text/x-python",
   "name": "python",
   "nbconvert_exporter": "python",
   "pygments_lexer": "ipython3",
   "version": "3.6.4"
  }
 },
 "nbformat": 4,
 "nbformat_minor": 2
}
